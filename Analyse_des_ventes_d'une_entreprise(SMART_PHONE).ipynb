{
  "nbformat": 4,
  "nbformat_minor": 0,
  "metadata": {
    "colab": {
      "name": "Analyse des ventes d'une entreprise(SMART PHONE)",
      "provenance": [],
      "mount_file_id": "1biXA9-MVz3lqSL-MozcmsXZTN2KfAZNF",
      "authorship_tag": "ABX9TyOZqn0mtK3/eZUCb8oYwCeY",
      "include_colab_link": true
    },
    "kernelspec": {
      "name": "python3",
      "display_name": "Python 3"
    },
    "language_info": {
      "name": "python"
    }
  },
  "cells": [
    {
      "cell_type": "markdown",
      "metadata": {
        "id": "view-in-github",
        "colab_type": "text"
      },
      "source": [
        "<a href=\"https://colab.research.google.com/github/AhmedEloumi/Analyse-des-ventes-SMART-POHNE-/blob/main/Analyse_des_ventes_d'une_entreprise(SMART_PHONE).ipynb\" target=\"_parent\"><img src=\"https://colab.research.google.com/assets/colab-badge.svg\" alt=\"Open In Colab\"/></a>"
      ]
    },
    {
      "cell_type": "code",
      "execution_count": 1,
      "metadata": {
        "id": "-GSyvzL12CSO"
      },
      "outputs": [],
      "source": [
        "import os\n",
        "import pandas as pd \n",
        "import matplotlib.pyplot as plt\n",
        "import seaborn as sns \n"
      ]
    },
    {
      "cell_type": "code",
      "source": [
        "files=[file for file in os.listdir(r'/content/phone data')]"
      ],
      "metadata": {
        "id": "2OrtT0Pe4u4f"
      },
      "execution_count": 23,
      "outputs": []
    },
    {
      "cell_type": "code",
      "source": [
        "#le nom des datasets\n",
        "for file in files :\n",
        "  print( file)\n"
      ],
      "metadata": {
        "id": "nbXmIPFT5LAi",
        "colab": {
          "base_uri": "https://localhost:8080/"
        },
        "outputId": "960f60aa-eee1-4f51-d808-009b394c3e2f"
      },
      "execution_count": 24,
      "outputs": [
        {
          "output_type": "stream",
          "name": "stdout",
          "text": [
            "Sales_March_2019.csv\n",
            "Sales_November_2019.csv\n",
            "Sales_July_2019.csv\n",
            "Sales_April_2019.csv\n",
            "Sales_January_2019.csv\n",
            "Sales_September_2019.csv\n",
            "Sales_February_2019.csv\n",
            "Sales_December_2019.csv\n",
            "Sales_June_2019.csv\n",
            "Sales_May_2019.csv\n",
            "Sales_August_2019.csv\n",
            "Sales_October_2019.csv\n"
          ]
        }
      ]
    },
    {
      "cell_type": "markdown",
      "source": [
        "#**regrouper les fichier**"
      ],
      "metadata": {
        "id": "owr3pk8-2Jbh"
      }
    },
    {
      "cell_type": "markdown",
      "source": [
        "###**creer une base de données vide**"
      ],
      "metadata": {
        "id": "KUL9_wR92TF8"
      }
    },
    {
      "cell_type": "code",
      "source": [
        "\n",
        "all_data=pd.DataFrame()\n"
      ],
      "metadata": {
        "id": "sNms2wbo2XBe"
      },
      "execution_count": 57,
      "outputs": []
    },
    {
      "cell_type": "code",
      "source": [
        "for file in files :\n",
        "  current_data=pd.read_csv('/content/phone data'+'/'+file)\n",
        "  all_data=pd.concat([all_data,current_data])\n",
        "print(all_data)\n"
      ],
      "metadata": {
        "colab": {
          "base_uri": "https://localhost:8080/"
        },
        "id": "cjg2UvTU628j",
        "outputId": "ad520b01-b269-4d9d-d42c-b3ae1996ad88"
      },
      "execution_count": 58,
      "outputs": [
        {
          "output_type": "stream",
          "name": "stdout",
          "text": [
            "      Order ID                     Product Quantity Ordered Price Each  \\\n",
            "0       162009                      iPhone                1        700   \n",
            "1       162009    Lightning Charging Cable                1      14.95   \n",
            "2       162009            Wired Headphones                2      11.99   \n",
            "3       162010  Bose SoundSport Headphones                1      99.99   \n",
            "4       162011      34in Ultrawide Monitor                1     379.99   \n",
            "...        ...                         ...              ...        ...   \n",
            "20374   278792       AA Batteries (4-pack)                1       3.84   \n",
            "20375   278793            Wired Headphones                1      11.99   \n",
            "20376   278794       AA Batteries (4-pack)                1       3.84   \n",
            "20377   278795                      iPhone                1        700   \n",
            "20378   278796            Wired Headphones                1      11.99   \n",
            "\n",
            "           Order Date                         Purchase Address  \n",
            "0      03/28/19 20:59          942 Church St, Austin, TX 73301  \n",
            "1      03/28/19 20:59          942 Church St, Austin, TX 73301  \n",
            "2      03/28/19 20:59          942 Church St, Austin, TX 73301  \n",
            "3      03/17/19 05:39     261 10th St, San Francisco, CA 94016  \n",
            "4      03/10/19 00:01     764 13th St, San Francisco, CA 94016  \n",
            "...               ...                                      ...  \n",
            "20374  10/12/19 04:32    920 Adams St, San Francisco, CA 94016  \n",
            "20375  10/28/19 22:00   161 Chestnut St, Los Angeles, CA 90001  \n",
            "20376  10/09/19 20:58   346 Spruce St, San Francisco, CA 94016  \n",
            "20377  10/31/19 17:21           291 Hill St, Seattle, WA 98101  \n",
            "20378  10/13/19 11:20  547 Jefferson St, Los Angeles, CA 90001  \n",
            "\n",
            "[186850 rows x 6 columns]\n"
          ]
        }
      ]
    },
    {
      "cell_type": "code",
      "source": [
        "print(all_data.shape)"
      ],
      "metadata": {
        "id": "IYYJxVPY_DWF",
        "colab": {
          "base_uri": "https://localhost:8080/"
        },
        "outputId": "6f615449-c735-45cc-b535-9b713a7256cc"
      },
      "execution_count": 59,
      "outputs": [
        {
          "output_type": "stream",
          "name": "stdout",
          "text": [
            "(186850, 6)\n"
          ]
        }
      ]
    },
    {
      "cell_type": "code",
      "source": [
        "all_data.to_csv('/content/phone data'+'/all_data.csv',index=False)"
      ],
      "metadata": {
        "id": "mqZ9PH8RBpSq"
      },
      "execution_count": 60,
      "outputs": []
    },
    {
      "cell_type": "code",
      "source": [
        "all_data.dtypes\n",
        "print( all_data.dtypes.value_counts())"
      ],
      "metadata": {
        "colab": {
          "base_uri": "https://localhost:8080/"
        },
        "id": "cFQMiPmXB-kc",
        "outputId": "9d541210-5614-40f7-e817-55f45185c474"
      },
      "execution_count": 61,
      "outputs": [
        {
          "output_type": "stream",
          "name": "stdout",
          "text": [
            "object    6\n",
            "dtype: int64\n"
          ]
        }
      ]
    },
    {
      "cell_type": "markdown",
      "source": [
        "#**vsiualiserles valeurs manquantes**\n",
        "###**aanalyse des valeurs manquantes:**"
      ],
      "metadata": {
        "id": "9VuFkGFn2gN9"
      }
    },
    {
      "cell_type": "code",
      "source": [
        "plt.figure(figsize=(20,10))\n",
        "sns.heatmap(all_data.isna(),cbar=False)\n",
        "s=(all_data.isna().sum()/all_data.shape[0]).sort_values(ascending=True)\n",
        "print(s)"
      ],
      "metadata": {
        "colab": {
          "base_uri": "https://localhost:8080/",
          "height": 688
        },
        "id": "0jkgUY7UDRm6",
        "outputId": "cff89ba0-aaad-4ed4-ee11-4b91bb1fe7d0"
      },
      "execution_count": 32,
      "outputs": [
        {
          "output_type": "stream",
          "name": "stdout",
          "text": [
            "Order ID            0.002917\n",
            "Product             0.002917\n",
            "Quantity Ordered    0.002917\n",
            "Price Each          0.002917\n",
            "Order Date          0.002917\n",
            "Purchase Address    0.002917\n",
            "dtype: float64\n"
          ]
        },
        {
          "output_type": "display_data",
          "data": {
            "text/plain": [
              "<Figure size 1440x720 with 1 Axes>"
            ],
            "image/png": "[encoded data removed]"
          },
          "metadata": {
            "needs_background": "light"
          }
        }
      ]
    },
    {
      "cell_type": "code",
      "source": [
        "all_data.isnull().sum()"
      ],
      "metadata": {
        "colab": {
          "base_uri": "https://localhost:8080/"
        },
        "id": "mymxmQwMEijO",
        "outputId": "c7f244f2-9318-4653-aa5e-c49dea660aa3"
      },
      "execution_count": 33,
      "outputs": [
        {
          "output_type": "execute_result",
          "data": {
            "text/plain": [
              "Order ID            545\n",
              "Product             545\n",
              "Quantity Ordered    545\n",
              "Price Each          545\n",
              "Order Date          545\n",
              "Purchase Address    545\n",
              "dtype: int64"
            ]
          },
          "metadata": {},
          "execution_count": 33
        }
      ]
    },
    {
      "cell_type": "markdown",
      "source": [
        "###**supprimer les valeurs manquantes**"
      ],
      "metadata": {
        "id": "P_LwT1xP2m7W"
      }
    },
    {
      "cell_type": "code",
      "source": [
        "all_data=all_data.dropna(how='all')\n",
        "all_data.shape"
      ],
      "metadata": {
        "colab": {
          "base_uri": "https://localhost:8080/"
        },
        "id": "qgAK2N1_FHtA",
        "outputId": "946bd5d1-bd05-4846-d21e-d0a475225aa4"
      },
      "execution_count": 66,
      "outputs": [
        {
          "output_type": "execute_result",
          "data": {
            "text/plain": [
              "(186305, 6)"
            ]
          },
          "metadata": {},
          "execution_count": 66
        }
      ]
    },
    {
      "cell_type": "code",
      "source": [
        "def month(x):\n",
        "  return x.split('/')[0]\n",
        "month('12/04/19 10:15')"
      ],
      "metadata": {
        "id": "lpoZBmPNFQLA",
        "colab": {
          "base_uri": "https://localhost:8080/",
          "height": 35
        },
        "outputId": "688fbc6e-ea61-4249-db95-5cbd4c72609d"
      },
      "execution_count": 67,
      "outputs": [
        {
          "output_type": "execute_result",
          "data": {
            "text/plain": [
              "'12'"
            ],
            "application/vnd.google.colaboratory.intrinsic+json": {
              "type": "string"
            }
          },
          "metadata": {},
          "execution_count": 67
        }
      ]
    },
    {
      "cell_type": "code",
      "source": [
        "all_data['Order Date']=all_data['Order Date'].astype(str)\n",
        "all_data['Month']= all_data['Order Date'].apply(month)\n",
        "all_data['Month'].unique()"
      ],
      "metadata": {
        "colab": {
          "base_uri": "https://localhost:8080/"
        },
        "id": "0Mi97NEQI9MD",
        "outputId": "6b64c407-d98b-4ed7-cff7-f09e84826326"
      },
      "execution_count": 68,
      "outputs": [
        {
          "output_type": "execute_result",
          "data": {
            "text/plain": [
              "array(['03', '04', 'Order Date', '11', '12', '07', '08', '05', '01', '02',\n",
              "       '09', '10', '06'], dtype=object)"
            ]
          },
          "metadata": {},
          "execution_count": 68
        }
      ]
    },
    {
      "cell_type": "code",
      "source": [
        "all_data=all_data[all_data['Month']!='Order Date']\n",
        "all_data['Month'].unique()"
      ],
      "metadata": {
        "colab": {
          "base_uri": "https://localhost:8080/"
        },
        "id": "V9cIX4t1Jl51",
        "outputId": "4ec5ac84-43f4-43b1-b42f-80fe2b4b8de0"
      },
      "execution_count": 69,
      "outputs": [
        {
          "output_type": "execute_result",
          "data": {
            "text/plain": [
              "array(['03', '04', '11', '12', '07', '08', '05', '01', '02', '09', '10',\n",
              "       '06'], dtype=object)"
            ]
          },
          "metadata": {},
          "execution_count": 69
        }
      ]
    },
    {
      "cell_type": "code",
      "source": [
        "all_data['Month']=all_data['Month'].astype(int)\n",
        "all_data.dtypes"
      ],
      "metadata": {
        "colab": {
          "base_uri": "https://localhost:8080/"
        },
        "id": "QyByMqKAN_j_",
        "outputId": "88dc1f3d-baf8-4c96-a7c4-20d27dd4f63d"
      },
      "execution_count": 70,
      "outputs": [
        {
          "output_type": "execute_result",
          "data": {
            "text/plain": [
              "Order ID            object\n",
              "Product             object\n",
              "Quantity Ordered    object\n",
              "Price Each          object\n",
              "Order Date          object\n",
              "Purchase Address    object\n",
              "Month                int64\n",
              "dtype: object"
            ]
          },
          "metadata": {},
          "execution_count": 70
        }
      ]
    },
    {
      "cell_type": "code",
      "source": [
        "all_data['Price Each']=all_data['Price Each'].astype(float)\n",
        "all_data['Quantity Ordered']=all_data['Quantity Ordered'].astype(int)\n",
        "all_data.dtypes"
      ],
      "metadata": {
        "id": "e06JgBt7OMz6",
        "colab": {
          "base_uri": "https://localhost:8080/"
        },
        "outputId": "4793f73d-476e-4d39-e238-850ca1f9a526"
      },
      "execution_count": 71,
      "outputs": [
        {
          "output_type": "execute_result",
          "data": {
            "text/plain": [
              "Order ID             object\n",
              "Product              object\n",
              "Quantity Ordered      int64\n",
              "Price Each          float64\n",
              "Order Date           object\n",
              "Purchase Address     object\n",
              "Month                 int64\n",
              "dtype: object"
            ]
          },
          "metadata": {},
          "execution_count": 71
        }
      ]
    },
    {
      "cell_type": "markdown",
      "source": [
        "##**chiffre d'affaire**"
      ],
      "metadata": {
        "id": "L6bweVXz3A0H"
      }
    },
    {
      "cell_type": "code",
      "source": [
        "\n",
        "all_data['CA']=all_data['Price Each']*all_data['Quantity Ordered']\n",
        "ca=all_data.groupby('Month')['CA'].sum()\n",
        "print(ca)"
      ],
      "metadata": {
        "id": "LBsGD7fxRHI2",
        "colab": {
          "base_uri": "https://localhost:8080/"
        },
        "outputId": "844c45d4-a88c-49dc-c62d-33b02695a482"
      },
      "execution_count": 72,
      "outputs": [
        {
          "output_type": "stream",
          "name": "stdout",
          "text": [
            "Month\n",
            "1     1822256.73\n",
            "2     2202022.42\n",
            "3     2807100.38\n",
            "4     3390670.24\n",
            "5     3152606.75\n",
            "6     2577802.26\n",
            "7     2647775.76\n",
            "8     2244467.88\n",
            "9     2097560.13\n",
            "10    3736726.88\n",
            "11    3199603.20\n",
            "12    4613443.34\n",
            "Name: CA, dtype: float64\n"
          ]
        }
      ]
    },
    {
      "cell_type": "code",
      "source": [
        "months=range(1,13)\n",
        "plt.bar(months,ca)\n",
        "plt.xticks(months)\n",
        "plt.ylabel('Sales in USD')\n",
        "plt.xlabel('month number')\n",
        "plt.show()"
      ],
      "metadata": {
        "colab": {
          "base_uri": "https://localhost:8080/",
          "height": 290
        },
        "id": "BwKmAmX9w6vl",
        "outputId": "54281be2-d123-46e5-8aa9-affcb11e5a1a"
      },
      "execution_count": 73,
      "outputs": [
        {
          "output_type": "display_data",
          "data": {
            "text/plain": [
              "<Figure size 432x288 with 1 Axes>"
            ],
            "image/png": "[encoded data removed]"
          },
          "metadata": {
            "needs_background": "light"
          }
        }
      ]
    },
    {
      "cell_type": "markdown",
      "source": [
        "\n",
        "***donc le mois décembre est le mois qui posséde le plus grand chiffre d'affaire***"
      ],
      "metadata": {
        "id": "LwqZkTW31y0n"
      }
    },
    {
      "cell_type": "markdown",
      "source": [
        "**Dans quelle ville on a enregistré un maximum de commandes ??**"
      ],
      "metadata": {
        "id": "Jiq3GXM83wyL"
      }
    },
    {
      "cell_type": "code",
      "source": [
        "def ville(x):\n",
        "  return x.split(',')[1]\n",
        "all_data['ville']= all_data['Purchase Address'].apply(ville)\n",
        "all_data['ville'].unique()"
      ],
      "metadata": {
        "colab": {
          "base_uri": "https://localhost:8080/"
        },
        "id": "N7LyqPhHx-KH",
        "outputId": "059c34a4-79a4-4bf7-aac8-39c5ef1fc052"
      },
      "execution_count": 78,
      "outputs": [
        {
          "output_type": "execute_result",
          "data": {
            "text/plain": [
              "array([' Austin', ' San Francisco', ' Boston', ' Atlanta', ' Portland',\n",
              "       ' Dallas', ' Los Angeles', ' New York City', ' Seattle'],\n",
              "      dtype=object)"
            ]
          },
          "metadata": {},
          "execution_count": 78
        }
      ]
    },
    {
      "cell_type": "code",
      "source": [
        "all_data"
      ],
      "metadata": {
        "colab": {
          "base_uri": "https://localhost:8080/",
          "height": 658
        },
        "id": "wbjTBIIc5cm0",
        "outputId": "634852fc-eb5e-4165-898c-bea73b84a093"
      },
      "execution_count": 79,
      "outputs": [
        {
          "output_type": "execute_result",
          "data": {
            "text/plain": [
              "      Order ID                     Product  Quantity Ordered  Price Each  \\\n",
              "0       162009                      iPhone                 1      700.00   \n",
              "1       162009    Lightning Charging Cable                 1       14.95   \n",
              "2       162009            Wired Headphones                 2       11.99   \n",
              "3       162010  Bose SoundSport Headphones                 1       99.99   \n",
              "4       162011      34in Ultrawide Monitor                 1      379.99   \n",
              "...        ...                         ...               ...         ...   \n",
              "20374   278792       AA Batteries (4-pack)                 1        3.84   \n",
              "20375   278793            Wired Headphones                 1       11.99   \n",
              "20376   278794       AA Batteries (4-pack)                 1        3.84   \n",
              "20377   278795                      iPhone                 1      700.00   \n",
              "20378   278796            Wired Headphones                 1       11.99   \n",
              "\n",
              "           Order Date                         Purchase Address  Month      CA  \\\n",
              "0      03/28/19 20:59          942 Church St, Austin, TX 73301      3  700.00   \n",
              "1      03/28/19 20:59          942 Church St, Austin, TX 73301      3   14.95   \n",
              "2      03/28/19 20:59          942 Church St, Austin, TX 73301      3   23.98   \n",
              "3      03/17/19 05:39     261 10th St, San Francisco, CA 94016      3   99.99   \n",
              "4      03/10/19 00:01     764 13th St, San Francisco, CA 94016      3  379.99   \n",
              "...               ...                                      ...    ...     ...   \n",
              "20374  10/12/19 04:32    920 Adams St, San Francisco, CA 94016     10    3.84   \n",
              "20375  10/28/19 22:00   161 Chestnut St, Los Angeles, CA 90001     10   11.99   \n",
              "20376  10/09/19 20:58   346 Spruce St, San Francisco, CA 94016     10    3.84   \n",
              "20377  10/31/19 17:21           291 Hill St, Seattle, WA 98101     10  700.00   \n",
              "20378  10/13/19 11:20  547 Jefferson St, Los Angeles, CA 90001     10   11.99   \n",
              "\n",
              "                ville  \n",
              "0              Austin  \n",
              "1              Austin  \n",
              "2              Austin  \n",
              "3       San Francisco  \n",
              "4       San Francisco  \n",
              "...               ...  \n",
              "20374   San Francisco  \n",
              "20375     Los Angeles  \n",
              "20376   San Francisco  \n",
              "20377         Seattle  \n",
              "20378     Los Angeles  \n",
              "\n",
              "[185950 rows x 9 columns]"
            ],
            "text/html": [
              "\n",
              "  <div id=\"df-c1ace640-62ce-4df4-86c4-b52d941bd2a8\">\n",
              "    <div class=\"colab-df-container\">\n",
              "      <div>\n",
              "<style scoped>\n",
              "    .dataframe tbody tr th:only-of-type {\n",
              "        vertical-align: middle;\n",
              "    }\n",
              "\n",
              "    .dataframe tbody tr th {\n",
              "        vertical-align: top;\n",
              "    }\n",
              "\n",
              "    .dataframe thead th {\n",
              "        text-align: right;\n",
              "    }\n",
              "</style>\n",
              "<table border=\"1\" class=\"dataframe\">\n",
              "  <thead>\n",
              "    <tr style=\"text-align: right;\">\n",
              "      <th></th>\n",
              "      <th>Order ID</th>\n",
              "      <th>Product</th>\n",
              "      <th>Quantity Ordered</th>\n",
              "      <th>Price Each</th>\n",
              "      <th>Order Date</th>\n",
              "      <th>Purchase Address</th>\n",
              "      <th>Month</th>\n",
              "      <th>CA</th>\n",
              "      <th>ville</th>\n",
              "    </tr>\n",
              "  </thead>\n",
              "  <tbody>\n",
              "    <tr>\n",
              "      <th>0</th>\n",
              "      <td>162009</td>\n",
              "      <td>iPhone</td>\n",
              "      <td>1</td>\n",
              "      <td>700.00</td>\n",
              "      <td>03/28/19 20:59</td>\n",
              "      <td>942 Church St, Austin, TX 73301</td>\n",
              "      <td>3</td>\n",
              "      <td>700.00</td>\n",
              "      <td>Austin</td>\n",
              "    </tr>\n",
              "    <tr>\n",
              "      <th>1</th>\n",
              "      <td>162009</td>\n",
              "      <td>Lightning Charging Cable</td>\n",
              "      <td>1</td>\n",
              "      <td>14.95</td>\n",
              "      <td>03/28/19 20:59</td>\n",
              "      <td>942 Church St, Austin, TX 73301</td>\n",
              "      <td>3</td>\n",
              "      <td>14.95</td>\n",
              "      <td>Austin</td>\n",
              "    </tr>\n",
              "    <tr>\n",
              "      <th>2</th>\n",
              "      <td>162009</td>\n",
              "      <td>Wired Headphones</td>\n",
              "      <td>2</td>\n",
              "      <td>11.99</td>\n",
              "      <td>03/28/19 20:59</td>\n",
              "      <td>942 Church St, Austin, TX 73301</td>\n",
              "      <td>3</td>\n",
              "      <td>23.98</td>\n",
              "      <td>Austin</td>\n",
              "    </tr>\n",
              "    <tr>\n",
              "      <th>3</th>\n",
              "      <td>162010</td>\n",
              "      <td>Bose SoundSport Headphones</td>\n",
              "      <td>1</td>\n",
              "      <td>99.99</td>\n",
              "      <td>03/17/19 05:39</td>\n",
              "      <td>261 10th St, San Francisco, CA 94016</td>\n",
              "      <td>3</td>\n",
              "      <td>99.99</td>\n",
              "      <td>San Francisco</td>\n",
              "    </tr>\n",
              "    <tr>\n",
              "      <th>4</th>\n",
              "      <td>162011</td>\n",
              "      <td>34in Ultrawide Monitor</td>\n",
              "      <td>1</td>\n",
              "      <td>379.99</td>\n",
              "      <td>03/10/19 00:01</td>\n",
              "      <td>764 13th St, San Francisco, CA 94016</td>\n",
              "      <td>3</td>\n",
              "      <td>379.99</td>\n",
              "      <td>San Francisco</td>\n",
              "    </tr>\n",
              "    <tr>\n",
              "      <th>...</th>\n",
              "      <td>...</td>\n",
              "      <td>...</td>\n",
              "      <td>...</td>\n",
              "      <td>...</td>\n",
              "      <td>...</td>\n",
              "      <td>...</td>\n",
              "      <td>...</td>\n",
              "      <td>...</td>\n",
              "      <td>...</td>\n",
              "    </tr>\n",
              "    <tr>\n",
              "      <th>20374</th>\n",
              "      <td>278792</td>\n",
              "      <td>AA Batteries (4-pack)</td>\n",
              "      <td>1</td>\n",
              "      <td>3.84</td>\n",
              "      <td>10/12/19 04:32</td>\n",
              "      <td>920 Adams St, San Francisco, CA 94016</td>\n",
              "      <td>10</td>\n",
              "      <td>3.84</td>\n",
              "      <td>San Francisco</td>\n",
              "    </tr>\n",
              "    <tr>\n",
              "      <th>20375</th>\n",
              "      <td>278793</td>\n",
              "      <td>Wired Headphones</td>\n",
              "      <td>1</td>\n",
              "      <td>11.99</td>\n",
              "      <td>10/28/19 22:00</td>\n",
              "      <td>161 Chestnut St, Los Angeles, CA 90001</td>\n",
              "      <td>10</td>\n",
              "      <td>11.99</td>\n",
              "      <td>Los Angeles</td>\n",
              "    </tr>\n",
              "    <tr>\n",
              "      <th>20376</th>\n",
              "      <td>278794</td>\n",
              "      <td>AA Batteries (4-pack)</td>\n",
              "      <td>1</td>\n",
              "      <td>3.84</td>\n",
              "      <td>10/09/19 20:58</td>\n",
              "      <td>346 Spruce St, San Francisco, CA 94016</td>\n",
              "      <td>10</td>\n",
              "      <td>3.84</td>\n",
              "      <td>San Francisco</td>\n",
              "    </tr>\n",
              "    <tr>\n",
              "      <th>20377</th>\n",
              "      <td>278795</td>\n",
              "      <td>iPhone</td>\n",
              "      <td>1</td>\n",
              "      <td>700.00</td>\n",
              "      <td>10/31/19 17:21</td>\n",
              "      <td>291 Hill St, Seattle, WA 98101</td>\n",
              "      <td>10</td>\n",
              "      <td>700.00</td>\n",
              "      <td>Seattle</td>\n",
              "    </tr>\n",
              "    <tr>\n",
              "      <th>20378</th>\n",
              "      <td>278796</td>\n",
              "      <td>Wired Headphones</td>\n",
              "      <td>1</td>\n",
              "      <td>11.99</td>\n",
              "      <td>10/13/19 11:20</td>\n",
              "      <td>547 Jefferson St, Los Angeles, CA 90001</td>\n",
              "      <td>10</td>\n",
              "      <td>11.99</td>\n",
              "      <td>Los Angeles</td>\n",
              "    </tr>\n",
              "  </tbody>\n",
              "</table>\n",
              "<p>185950 rows × 9 columns</p>\n",
              "</div>\n",
              "      <button class=\"colab-df-convert\" onclick=\"convertToInteractive('df-c1ace640-62ce-4df4-86c4-b52d941bd2a8')\"\n",
              "              title=\"Convert this dataframe to an interactive table.\"\n",
              "              style=\"display:none;\">\n",
              "        \n",
              "  <svg xmlns=\"http://www.w3.org/2000/svg\" height=\"24px\"viewBox=\"0 0 24 24\"\n",
              "       width=\"24px\">\n",
              "    <path d=\"M0 0h24v24H0V0z\" fill=\"none\"/>\n",
              "    <path d=\"M18.56 5.44l.94 2.06.94-2.06 2.06-.94-2.06-.94-.94-2.06-.94 2.06-2.06.94zm-11 1L8.5 8.5l.94-2.06 2.06-.94-2.06-.94L8.5 2.5l-.94 2.06-2.06.94zm10 10l.94 2.06.94-2.06 2.06-.94-2.06-.94-.94-2.06-.94 2.06-2.06.94z\"/><path d=\"M17.41 7.96l-1.37-1.37c-.4-.4-.92-.59-1.43-.59-.52 0-1.04.2-1.43.59L10.3 9.45l-7.72 7.72c-.78.78-.78 2.05 0 2.83L4 21.41c.39.39.9.59 1.41.59.51 0 1.02-.2 1.41-.59l7.78-7.78 2.81-2.81c.8-.78.8-2.07 0-2.86zM5.41 20L4 18.59l7.72-7.72 1.47 1.35L5.41 20z\"/>\n",
              "  </svg>\n",
              "      </button>\n",
              "      \n",
              "  <style>\n",
              "    .colab-df-container {\n",
              "      display:flex;\n",
              "      flex-wrap:wrap;\n",
              "      gap: 12px;\n",
              "    }\n",
              "\n",
              "    .colab-df-convert {\n",
              "      background-color: #E8F0FE;\n",
              "      border: none;\n",
              "      border-radius: 50%;\n",
              "      cursor: pointer;\n",
              "      display: none;\n",
              "      fill: #1967D2;\n",
              "      height: 32px;\n",
              "      padding: 0 0 0 0;\n",
              "      width: 32px;\n",
              "    }\n",
              "\n",
              "    .colab-df-convert:hover {\n",
              "      background-color: #E2EBFA;\n",
              "      box-shadow: 0px 1px 2px rgba(60, 64, 67, 0.3), 0px 1px 3px 1px rgba(60, 64, 67, 0.15);\n",
              "      fill: #174EA6;\n",
              "    }\n",
              "\n",
              "    [theme=dark] .colab-df-convert {\n",
              "      background-color: #3B4455;\n",
              "      fill: #D2E3FC;\n",
              "    }\n",
              "\n",
              "    [theme=dark] .colab-df-convert:hover {\n",
              "      background-color: #434B5C;\n",
              "      box-shadow: 0px 1px 3px 1px rgba(0, 0, 0, 0.15);\n",
              "      filter: drop-shadow(0px 1px 2px rgba(0, 0, 0, 0.3));\n",
              "      fill: #FFFFFF;\n",
              "    }\n",
              "  </style>\n",
              "\n",
              "      <script>\n",
              "        const buttonEl =\n",
              "          document.querySelector('#df-c1ace640-62ce-4df4-86c4-b52d941bd2a8 button.colab-df-convert');\n",
              "        buttonEl.style.display =\n",
              "          google.colab.kernel.accessAllowed ? 'block' : 'none';\n",
              "\n",
              "        async function convertToInteractive(key) {\n",
              "          const element = document.querySelector('#df-c1ace640-62ce-4df4-86c4-b52d941bd2a8');\n",
              "          const dataTable =\n",
              "            await google.colab.kernel.invokeFunction('convertToInteractive',\n",
              "                                                     [key], {});\n",
              "          if (!dataTable) return;\n",
              "\n",
              "          const docLinkHtml = 'Like what you see? Visit the ' +\n",
              "            '<a target=\"_blank\" href=https://colab.research.google.com/notebooks/data_table.ipynb>data table notebook</a>'\n",
              "            + ' to learn more about interactive tables.';\n",
              "          element.innerHTML = '';\n",
              "          dataTable['output_type'] = 'display_data';\n",
              "          await google.colab.output.renderOutput(dataTable, element);\n",
              "          const docLink = document.createElement('div');\n",
              "          docLink.innerHTML = docLinkHtml;\n",
              "          element.appendChild(docLink);\n",
              "        }\n",
              "      </script>\n",
              "    </div>\n",
              "  </div>\n",
              "  "
            ]
          },
          "metadata": {},
          "execution_count": 79
        }
      ]
    },
    {
      "cell_type": "code",
      "source": [
        "all_data.groupby('ville')['ville'].count()"
      ],
      "metadata": {
        "colab": {
          "base_uri": "https://localhost:8080/"
        },
        "id": "3tumLNLH5eCH",
        "outputId": "c2ec4649-7238-4f46-8b17-e8a29c198a57"
      },
      "execution_count": 80,
      "outputs": [
        {
          "output_type": "execute_result",
          "data": {
            "text/plain": [
              "ville\n",
              " Atlanta          14881\n",
              " Austin            9905\n",
              " Boston           19934\n",
              " Dallas           14820\n",
              " Los Angeles      29605\n",
              " New York City    24876\n",
              " Portland         12465\n",
              " San Francisco    44732\n",
              " Seattle          14732\n",
              "Name: ville, dtype: int64"
            ]
          },
          "metadata": {},
          "execution_count": 80
        }
      ]
    },
    {
      "cell_type": "code",
      "source": [
        "plt.hist(all_data['ville'],bins=25)\n",
        "plt.xticks(rotation='vertical')\n",
        "plt.xlabel(\"ville\")\n",
        "plt.ylabel('commande number')"
      ],
      "metadata": {
        "colab": {
          "base_uri": "https://localhost:8080/",
          "height": 358
        },
        "id": "3hJ1NP-45q5K",
        "outputId": "3d0a1d45-559a-486b-c29d-c29f4b9229fe"
      },
      "execution_count": 86,
      "outputs": [
        {
          "output_type": "execute_result",
          "data": {
            "text/plain": [
              "Text(0, 0.5, 'commande number')"
            ]
          },
          "metadata": {},
          "execution_count": 86
        },
        {
          "output_type": "display_data",
          "data": {
            "text/plain": [
              "<Figure size 432x288 with 1 Axes>"
            ],
            "image/png": "[encoded data removed]"
          },
          "metadata": {
            "needs_background": "light"
          }
        }
      ]
    },
    {
      "cell_type": "markdown",
      "source": [
        "**En quelle moment doit on faire une compagne publicitaire pour avoir plus de ventes ?**"
      ],
      "metadata": {
        "id": "MqTZ-gOC9gXY"
      }
    },
    {
      "cell_type": "code",
      "source": [
        "all_data['hour']=pd.to_datetime(all_data['Order Date']).dt.hour  \n",
        "all_data"
      ],
      "metadata": {
        "colab": {
          "base_uri": "https://localhost:8080/",
          "height": 658
        },
        "id": "wCLv950n50B1",
        "outputId": "b4ee2748-728d-4f4c-e278-16ed4208b2e3"
      },
      "execution_count": 87,
      "outputs": [
        {
          "output_type": "execute_result",
          "data": {
            "text/plain": [
              "      Order ID                     Product  Quantity Ordered  Price Each  \\\n",
              "0       162009                      iPhone                 1      700.00   \n",
              "1       162009    Lightning Charging Cable                 1       14.95   \n",
              "2       162009            Wired Headphones                 2       11.99   \n",
              "3       162010  Bose SoundSport Headphones                 1       99.99   \n",
              "4       162011      34in Ultrawide Monitor                 1      379.99   \n",
              "...        ...                         ...               ...         ...   \n",
              "20374   278792       AA Batteries (4-pack)                 1        3.84   \n",
              "20375   278793            Wired Headphones                 1       11.99   \n",
              "20376   278794       AA Batteries (4-pack)                 1        3.84   \n",
              "20377   278795                      iPhone                 1      700.00   \n",
              "20378   278796            Wired Headphones                 1       11.99   \n",
              "\n",
              "           Order Date                         Purchase Address  Month      CA  \\\n",
              "0      03/28/19 20:59          942 Church St, Austin, TX 73301      3  700.00   \n",
              "1      03/28/19 20:59          942 Church St, Austin, TX 73301      3   14.95   \n",
              "2      03/28/19 20:59          942 Church St, Austin, TX 73301      3   23.98   \n",
              "3      03/17/19 05:39     261 10th St, San Francisco, CA 94016      3   99.99   \n",
              "4      03/10/19 00:01     764 13th St, San Francisco, CA 94016      3  379.99   \n",
              "...               ...                                      ...    ...     ...   \n",
              "20374  10/12/19 04:32    920 Adams St, San Francisco, CA 94016     10    3.84   \n",
              "20375  10/28/19 22:00   161 Chestnut St, Los Angeles, CA 90001     10   11.99   \n",
              "20376  10/09/19 20:58   346 Spruce St, San Francisco, CA 94016     10    3.84   \n",
              "20377  10/31/19 17:21           291 Hill St, Seattle, WA 98101     10  700.00   \n",
              "20378  10/13/19 11:20  547 Jefferson St, Los Angeles, CA 90001     10   11.99   \n",
              "\n",
              "                ville  hour  \n",
              "0              Austin    20  \n",
              "1              Austin    20  \n",
              "2              Austin    20  \n",
              "3       San Francisco     5  \n",
              "4       San Francisco     0  \n",
              "...               ...   ...  \n",
              "20374   San Francisco     4  \n",
              "20375     Los Angeles    22  \n",
              "20376   San Francisco    20  \n",
              "20377         Seattle    17  \n",
              "20378     Los Angeles    11  \n",
              "\n",
              "[185950 rows x 10 columns]"
            ],
            "text/html": [
              "\n",
              "  <div id=\"df-bf139723-a00d-4cda-9f88-1f9c72872510\">\n",
              "    <div class=\"colab-df-container\">\n",
              "      <div>\n",
              "<style scoped>\n",
              "    .dataframe tbody tr th:only-of-type {\n",
              "        vertical-align: middle;\n",
              "    }\n",
              "\n",
              "    .dataframe tbody tr th {\n",
              "        vertical-align: top;\n",
              "    }\n",
              "\n",
              "    .dataframe thead th {\n",
              "        text-align: right;\n",
              "    }\n",
              "</style>\n",
              "<table border=\"1\" class=\"dataframe\">\n",
              "  <thead>\n",
              "    <tr style=\"text-align: right;\">\n",
              "      <th></th>\n",
              "      <th>Order ID</th>\n",
              "      <th>Product</th>\n",
              "      <th>Quantity Ordered</th>\n",
              "      <th>Price Each</th>\n",
              "      <th>Order Date</th>\n",
              "      <th>Purchase Address</th>\n",
              "      <th>Month</th>\n",
              "      <th>CA</th>\n",
              "      <th>ville</th>\n",
              "      <th>hour</th>\n",
              "    </tr>\n",
              "  </thead>\n",
              "  <tbody>\n",
              "    <tr>\n",
              "      <th>0</th>\n",
              "      <td>162009</td>\n",
              "      <td>iPhone</td>\n",
              "      <td>1</td>\n",
              "      <td>700.00</td>\n",
              "      <td>03/28/19 20:59</td>\n",
              "      <td>942 Church St, Austin, TX 73301</td>\n",
              "      <td>3</td>\n",
              "      <td>700.00</td>\n",
              "      <td>Austin</td>\n",
              "      <td>20</td>\n",
              "    </tr>\n",
              "    <tr>\n",
              "      <th>1</th>\n",
              "      <td>162009</td>\n",
              "      <td>Lightning Charging Cable</td>\n",
              "      <td>1</td>\n",
              "      <td>14.95</td>\n",
              "      <td>03/28/19 20:59</td>\n",
              "      <td>942 Church St, Austin, TX 73301</td>\n",
              "      <td>3</td>\n",
              "      <td>14.95</td>\n",
              "      <td>Austin</td>\n",
              "      <td>20</td>\n",
              "    </tr>\n",
              "    <tr>\n",
              "      <th>2</th>\n",
              "      <td>162009</td>\n",
              "      <td>Wired Headphones</td>\n",
              "      <td>2</td>\n",
              "      <td>11.99</td>\n",
              "      <td>03/28/19 20:59</td>\n",
              "      <td>942 Church St, Austin, TX 73301</td>\n",
              "      <td>3</td>\n",
              "      <td>23.98</td>\n",
              "      <td>Austin</td>\n",
              "      <td>20</td>\n",
              "    </tr>\n",
              "    <tr>\n",
              "      <th>3</th>\n",
              "      <td>162010</td>\n",
              "      <td>Bose SoundSport Headphones</td>\n",
              "      <td>1</td>\n",
              "      <td>99.99</td>\n",
              "      <td>03/17/19 05:39</td>\n",
              "      <td>261 10th St, San Francisco, CA 94016</td>\n",
              "      <td>3</td>\n",
              "      <td>99.99</td>\n",
              "      <td>San Francisco</td>\n",
              "      <td>5</td>\n",
              "    </tr>\n",
              "    <tr>\n",
              "      <th>4</th>\n",
              "      <td>162011</td>\n",
              "      <td>34in Ultrawide Monitor</td>\n",
              "      <td>1</td>\n",
              "      <td>379.99</td>\n",
              "      <td>03/10/19 00:01</td>\n",
              "      <td>764 13th St, San Francisco, CA 94016</td>\n",
              "      <td>3</td>\n",
              "      <td>379.99</td>\n",
              "      <td>San Francisco</td>\n",
              "      <td>0</td>\n",
              "    </tr>\n",
              "    <tr>\n",
              "      <th>...</th>\n",
              "      <td>...</td>\n",
              "      <td>...</td>\n",
              "      <td>...</td>\n",
              "      <td>...</td>\n",
              "      <td>...</td>\n",
              "      <td>...</td>\n",
              "      <td>...</td>\n",
              "      <td>...</td>\n",
              "      <td>...</td>\n",
              "      <td>...</td>\n",
              "    </tr>\n",
              "    <tr>\n",
              "      <th>20374</th>\n",
              "      <td>278792</td>\n",
              "      <td>AA Batteries (4-pack)</td>\n",
              "      <td>1</td>\n",
              "      <td>3.84</td>\n",
              "      <td>10/12/19 04:32</td>\n",
              "      <td>920 Adams St, San Francisco, CA 94016</td>\n",
              "      <td>10</td>\n",
              "      <td>3.84</td>\n",
              "      <td>San Francisco</td>\n",
              "      <td>4</td>\n",
              "    </tr>\n",
              "    <tr>\n",
              "      <th>20375</th>\n",
              "      <td>278793</td>\n",
              "      <td>Wired Headphones</td>\n",
              "      <td>1</td>\n",
              "      <td>11.99</td>\n",
              "      <td>10/28/19 22:00</td>\n",
              "      <td>161 Chestnut St, Los Angeles, CA 90001</td>\n",
              "      <td>10</td>\n",
              "      <td>11.99</td>\n",
              "      <td>Los Angeles</td>\n",
              "      <td>22</td>\n",
              "    </tr>\n",
              "    <tr>\n",
              "      <th>20376</th>\n",
              "      <td>278794</td>\n",
              "      <td>AA Batteries (4-pack)</td>\n",
              "      <td>1</td>\n",
              "      <td>3.84</td>\n",
              "      <td>10/09/19 20:58</td>\n",
              "      <td>346 Spruce St, San Francisco, CA 94016</td>\n",
              "      <td>10</td>\n",
              "      <td>3.84</td>\n",
              "      <td>San Francisco</td>\n",
              "      <td>20</td>\n",
              "    </tr>\n",
              "    <tr>\n",
              "      <th>20377</th>\n",
              "      <td>278795</td>\n",
              "      <td>iPhone</td>\n",
              "      <td>1</td>\n",
              "      <td>700.00</td>\n",
              "      <td>10/31/19 17:21</td>\n",
              "      <td>291 Hill St, Seattle, WA 98101</td>\n",
              "      <td>10</td>\n",
              "      <td>700.00</td>\n",
              "      <td>Seattle</td>\n",
              "      <td>17</td>\n",
              "    </tr>\n",
              "    <tr>\n",
              "      <th>20378</th>\n",
              "      <td>278796</td>\n",
              "      <td>Wired Headphones</td>\n",
              "      <td>1</td>\n",
              "      <td>11.99</td>\n",
              "      <td>10/13/19 11:20</td>\n",
              "      <td>547 Jefferson St, Los Angeles, CA 90001</td>\n",
              "      <td>10</td>\n",
              "      <td>11.99</td>\n",
              "      <td>Los Angeles</td>\n",
              "      <td>11</td>\n",
              "    </tr>\n",
              "  </tbody>\n",
              "</table>\n",
              "<p>185950 rows × 10 columns</p>\n",
              "</div>\n",
              "      <button class=\"colab-df-convert\" onclick=\"convertToInteractive('df-bf139723-a00d-4cda-9f88-1f9c72872510')\"\n",
              "              title=\"Convert this dataframe to an interactive table.\"\n",
              "              style=\"display:none;\">\n",
              "        \n",
              "  <svg xmlns=\"http://www.w3.org/2000/svg\" height=\"24px\"viewBox=\"0 0 24 24\"\n",
              "       width=\"24px\">\n",
              "    <path d=\"M0 0h24v24H0V0z\" fill=\"none\"/>\n",
              "    <path d=\"M18.56 5.44l.94 2.06.94-2.06 2.06-.94-2.06-.94-.94-2.06-.94 2.06-2.06.94zm-11 1L8.5 8.5l.94-2.06 2.06-.94-2.06-.94L8.5 2.5l-.94 2.06-2.06.94zm10 10l.94 2.06.94-2.06 2.06-.94-2.06-.94-.94-2.06-.94 2.06-2.06.94z\"/><path d=\"M17.41 7.96l-1.37-1.37c-.4-.4-.92-.59-1.43-.59-.52 0-1.04.2-1.43.59L10.3 9.45l-7.72 7.72c-.78.78-.78 2.05 0 2.83L4 21.41c.39.39.9.59 1.41.59.51 0 1.02-.2 1.41-.59l7.78-7.78 2.81-2.81c.8-.78.8-2.07 0-2.86zM5.41 20L4 18.59l7.72-7.72 1.47 1.35L5.41 20z\"/>\n",
              "  </svg>\n",
              "      </button>\n",
              "      \n",
              "  <style>\n",
              "    .colab-df-container {\n",
              "      display:flex;\n",
              "      flex-wrap:wrap;\n",
              "      gap: 12px;\n",
              "    }\n",
              "\n",
              "    .colab-df-convert {\n",
              "      background-color: #E8F0FE;\n",
              "      border: none;\n",
              "      border-radius: 50%;\n",
              "      cursor: pointer;\n",
              "      display: none;\n",
              "      fill: #1967D2;\n",
              "      height: 32px;\n",
              "      padding: 0 0 0 0;\n",
              "      width: 32px;\n",
              "    }\n",
              "\n",
              "    .colab-df-convert:hover {\n",
              "      background-color: #E2EBFA;\n",
              "      box-shadow: 0px 1px 2px rgba(60, 64, 67, 0.3), 0px 1px 3px 1px rgba(60, 64, 67, 0.15);\n",
              "      fill: #174EA6;\n",
              "    }\n",
              "\n",
              "    [theme=dark] .colab-df-convert {\n",
              "      background-color: #3B4455;\n",
              "      fill: #D2E3FC;\n",
              "    }\n",
              "\n",
              "    [theme=dark] .colab-df-convert:hover {\n",
              "      background-color: #434B5C;\n",
              "      box-shadow: 0px 1px 3px 1px rgba(0, 0, 0, 0.15);\n",
              "      filter: drop-shadow(0px 1px 2px rgba(0, 0, 0, 0.3));\n",
              "      fill: #FFFFFF;\n",
              "    }\n",
              "  </style>\n",
              "\n",
              "      <script>\n",
              "        const buttonEl =\n",
              "          document.querySelector('#df-bf139723-a00d-4cda-9f88-1f9c72872510 button.colab-df-convert');\n",
              "        buttonEl.style.display =\n",
              "          google.colab.kernel.accessAllowed ? 'block' : 'none';\n",
              "\n",
              "        async function convertToInteractive(key) {\n",
              "          const element = document.querySelector('#df-bf139723-a00d-4cda-9f88-1f9c72872510');\n",
              "          const dataTable =\n",
              "            await google.colab.kernel.invokeFunction('convertToInteractive',\n",
              "                                                     [key], {});\n",
              "          if (!dataTable) return;\n",
              "\n",
              "          const docLinkHtml = 'Like what you see? Visit the ' +\n",
              "            '<a target=\"_blank\" href=https://colab.research.google.com/notebooks/data_table.ipynb>data table notebook</a>'\n",
              "            + ' to learn more about interactive tables.';\n",
              "          element.innerHTML = '';\n",
              "          dataTable['output_type'] = 'display_data';\n",
              "          await google.colab.output.renderOutput(dataTable, element);\n",
              "          const docLink = document.createElement('div');\n",
              "          docLink.innerHTML = docLinkHtml;\n",
              "          element.appendChild(docLink);\n",
              "        }\n",
              "      </script>\n",
              "    </div>\n",
              "  </div>\n",
              "  "
            ]
          },
          "metadata": {},
          "execution_count": 87
        }
      ]
    },
    {
      "cell_type": "code",
      "source": [
        "Hours=[]\n",
        "Keys=[]\n",
        "for key,hour in all_data.groupby('hour'):\n",
        "  \n",
        "  Hours.append(len(hour))\n",
        "  Keys.append(key)\n",
        "Hours\n"
      ],
      "metadata": {
        "colab": {
          "base_uri": "https://localhost:8080/"
        },
        "id": "FwjxM2P_-cAu",
        "outputId": "d10168dd-e9da-4d2f-ecb7-f302a8efa7b8"
      },
      "execution_count": 99,
      "outputs": [
        {
          "output_type": "execute_result",
          "data": {
            "text/plain": [
              "[3910,\n",
              " 2350,\n",
              " 1243,\n",
              " 831,\n",
              " 854,\n",
              " 1321,\n",
              " 2482,\n",
              " 4011,\n",
              " 6256,\n",
              " 8748,\n",
              " 10944,\n",
              " 12411,\n",
              " 12587,\n",
              " 12129,\n",
              " 10984,\n",
              " 10175,\n",
              " 10384,\n",
              " 10899,\n",
              " 12280,\n",
              " 12905,\n",
              " 12228,\n",
              " 10921,\n",
              " 8822,\n",
              " 6275]"
            ]
          },
          "metadata": {},
          "execution_count": 99
        }
      ]
    },
    {
      "cell_type": "markdown",
      "source": [
        "Hours est la liste de nombre de commande par heure\n",
        "-\n",
        "Keys est la liste des heures"
      ],
      "metadata": {
        "id": "hQPKjh9uAhSn"
      }
    },
    {
      "cell_type": "code",
      "source": [
        "plt.grid()\n",
        "plt.plot(Keys,Hours)\n",
        "plt.xlabel(\"heure de la journée\")\n",
        "plt.ylabel('commande number')"
      ],
      "metadata": {
        "colab": {
          "base_uri": "https://localhost:8080/",
          "height": 298
        },
        "id": "u58UvazRA-aU",
        "outputId": "f4f3b535-1947-43c6-ee15-46500e1373af"
      },
      "execution_count": 103,
      "outputs": [
        {
          "output_type": "execute_result",
          "data": {
            "text/plain": [
              "Text(0, 0.5, 'commande number')"
            ]
          },
          "metadata": {},
          "execution_count": 103
        },
        {
          "output_type": "display_data",
          "data": {
            "text/plain": [
              "<Figure size 432x288 with 1 Axes>"
            ],
            "image/png": "[encoded data removed]"
          },
          "metadata": {
            "needs_background": "light"
          }
        }
      ]
    },
    {
      "cell_type": "markdown",
      "source": [
        "##**Quel produit se vend le plus?**\n"
      ],
      "metadata": {
        "id": "zTDslS8aB_WW"
      }
    },
    {
      "cell_type": "code",
      "source": [
        "all_data.groupby('Product')['Quantity Ordered'].sum()\n",
        "  \n"
      ],
      "metadata": {
        "colab": {
          "base_uri": "https://localhost:8080/"
        },
        "id": "df5ER95PBLYr",
        "outputId": "0dd5832d-8478-4cd3-a38e-5c082dfc4998"
      },
      "execution_count": 122,
      "outputs": [
        {
          "output_type": "execute_result",
          "data": {
            "text/plain": [
              "Product\n",
              "20in Monitor                   4129\n",
              "27in 4K Gaming Monitor         6244\n",
              "27in FHD Monitor               7550\n",
              "34in Ultrawide Monitor         6199\n",
              "AA Batteries (4-pack)         27635\n",
              "AAA Batteries (4-pack)        31017\n",
              "Apple Airpods Headphones      15661\n",
              "Bose SoundSport Headphones    13457\n",
              "Flatscreen TV                  4819\n",
              "Google Phone                   5532\n",
              "LG Dryer                        646\n",
              "LG Washing Machine              666\n",
              "Lightning Charging Cable      23217\n",
              "Macbook Pro Laptop             4728\n",
              "ThinkPad Laptop                4130\n",
              "USB-C Charging Cable          23975\n",
              "Vareebadd Phone                2068\n",
              "Wired Headphones              20557\n",
              "iPhone                         6849\n",
              "Name: Quantity Ordered, dtype: int64"
            ]
          },
          "metadata": {},
          "execution_count": 122
        }
      ]
    },
    {
      "cell_type": "code",
      "source": [
        "all_data.groupby('Product')['Quantity Ordered'].sum().plot(kind='bar')"
      ],
      "metadata": {
        "colab": {
          "base_uri": "https://localhost:8080/",
          "height": 438
        },
        "id": "h1k4HwSXChHk",
        "outputId": "83f32757-c103-40d5-a386-85fc644d724a"
      },
      "execution_count": 123,
      "outputs": [
        {
          "output_type": "execute_result",
          "data": {
            "text/plain": [
              "<matplotlib.axes._subplots.AxesSubplot at 0x7f0709fa4a50>"
            ]
          },
          "metadata": {},
          "execution_count": 123
        },
        {
          "output_type": "display_data",
          "data": {
            "text/plain": [
              "<Figure size 432x288 with 1 Axes>"
            ],
            "image/png": "[encoded data removed]"
          },
          "metadata": {
            "needs_background": "light"
          }
        }
      ]
    },
    {
      "cell_type": "code",
      "source": [
        "all_data.groupby('Product')['Price Each'].mean()"
      ],
      "metadata": {
        "colab": {
          "base_uri": "https://localhost:8080/"
        },
        "id": "_85EAQvODYlj",
        "outputId": "3340b862-96cc-4df4-cdb5-35c7ad0e819f"
      },
      "execution_count": 124,
      "outputs": [
        {
          "output_type": "execute_result",
          "data": {
            "text/plain": [
              "Product\n",
              "20in Monitor                   109.99\n",
              "27in 4K Gaming Monitor         389.99\n",
              "27in FHD Monitor               149.99\n",
              "34in Ultrawide Monitor         379.99\n",
              "AA Batteries (4-pack)            3.84\n",
              "AAA Batteries (4-pack)           2.99\n",
              "Apple Airpods Headphones       150.00\n",
              "Bose SoundSport Headphones      99.99\n",
              "Flatscreen TV                  300.00\n",
              "Google Phone                   600.00\n",
              "LG Dryer                       600.00\n",
              "LG Washing Machine             600.00\n",
              "Lightning Charging Cable        14.95\n",
              "Macbook Pro Laptop            1700.00\n",
              "ThinkPad Laptop                999.99\n",
              "USB-C Charging Cable            11.95\n",
              "Vareebadd Phone                400.00\n",
              "Wired Headphones                11.99\n",
              "iPhone                         700.00\n",
              "Name: Price Each, dtype: float64"
            ]
          },
          "metadata": {},
          "execution_count": 124
        }
      ]
    },
    {
      "cell_type": "code",
      "source": [
        "products=all_data.groupby('Product')['Quantity Ordered'].sum().index\n",
        "quantity=all_data.groupby('Product')['Quantity Ordered'].sum()\n",
        "prices=all_data.groupby('Product')['Price Each'].mean()"
      ],
      "metadata": {
        "id": "y7UzcoJdFzt9"
      },
      "execution_count": 126,
      "outputs": []
    },
    {
      "cell_type": "code",
      "source": [
        "plt.figure(figsize=(40,24))\n",
        "fig,ax1=plt.subplots()\n",
        "ax2=ax1.twinx()\n",
        "ax1.bar(products,quantity,color='g')\n",
        "ax2.plot(products,prices,'b-')\n",
        "ax1.set_xticklabels(products,rotation='vertical',size=8)"
      ],
      "metadata": {
        "colab": {
          "base_uri": "https://localhost:8080/",
          "height": 724
        },
        "id": "3t6rG_qEGMwS",
        "outputId": "e8987cbd-82dc-482b-b295-735a01b3846e"
      },
      "execution_count": 132,
      "outputs": [
        {
          "output_type": "execute_result",
          "data": {
            "text/plain": [
              "[Text(0, 0, '20in Monitor'),\n",
              " Text(0, 0, '27in 4K Gaming Monitor'),\n",
              " Text(0, 0, '27in FHD Monitor'),\n",
              " Text(0, 0, '34in Ultrawide Monitor'),\n",
              " Text(0, 0, 'AA Batteries (4-pack)'),\n",
              " Text(0, 0, 'AAA Batteries (4-pack)'),\n",
              " Text(0, 0, 'Apple Airpods Headphones'),\n",
              " Text(0, 0, 'Bose SoundSport Headphones'),\n",
              " Text(0, 0, 'Flatscreen TV'),\n",
              " Text(0, 0, 'Google Phone'),\n",
              " Text(0, 0, 'LG Dryer'),\n",
              " Text(0, 0, 'LG Washing Machine'),\n",
              " Text(0, 0, 'Lightning Charging Cable'),\n",
              " Text(0, 0, 'Macbook Pro Laptop'),\n",
              " Text(0, 0, 'ThinkPad Laptop'),\n",
              " Text(0, 0, 'USB-C Charging Cable'),\n",
              " Text(0, 0, 'Vareebadd Phone'),\n",
              " Text(0, 0, 'Wired Headphones'),\n",
              " Text(0, 0, 'iPhone')]"
            ]
          },
          "metadata": {},
          "execution_count": 132
        },
        {
          "output_type": "display_data",
          "data": {
            "text/plain": [
              "<Figure size 2880x1728 with 0 Axes>"
            ]
          },
          "metadata": {}
        },
        {
          "output_type": "display_data",
          "data": {
            "text/plain": [
              "<Figure size 432x288 with 2 Axes>"
            ],
            "image/png": "[encoded data removed]"
          },
          "metadata": {
            "needs_background": "light"
          }
        }
      ]
    },
    {
      "cell_type": "markdown",
      "source": [
        "**Quelles sont les combinaisons de produits qui se vendent le plus ??**"
      ],
      "metadata": {
        "id": "eHbo28HsITdQ"
      }
    },
    {
      "cell_type": "code",
      "source": [
        "df=all_data[all_data['Order ID'].duplicated(keep=False)]"
      ],
      "metadata": {
        "id": "U3MsBVQoG9Ft"
      },
      "execution_count": 134,
      "outputs": []
    },
    {
      "cell_type": "code",
      "source": [
        "df[\"grouped\"]=df.groupby('Order ID')['Product'].transform(lambda x: ','.join(x))\n",
        "df"
      ],
      "metadata": {
        "colab": {
          "base_uri": "https://localhost:8080/",
          "height": 762
        },
        "id": "sxs1HcyMI8z3",
        "outputId": "6540bcd7-db2b-4b54-d337-a154d0f21f9d"
      },
      "execution_count": 139,
      "outputs": [
        {
          "output_type": "stream",
          "name": "stderr",
          "text": [
            "/usr/local/lib/python3.7/dist-packages/ipykernel_launcher.py:1: SettingWithCopyWarning: \n",
            "A value is trying to be set on a copy of a slice from a DataFrame.\n",
            "Try using .loc[row_indexer,col_indexer] = value instead\n",
            "\n",
            "See the caveats in the documentation: https://pandas.pydata.org/pandas-docs/stable/user_guide/indexing.html#returning-a-view-versus-a-copy\n",
            "  \"\"\"Entry point for launching an IPython kernel.\n"
          ]
        },
        {
          "output_type": "execute_result",
          "data": {
            "text/plain": [
              "      Order ID                     Product  Quantity Ordered  Price Each  \\\n",
              "0       162009                      iPhone                 1      700.00   \n",
              "1       162009    Lightning Charging Cable                 1       14.95   \n",
              "2       162009            Wired Headphones                 2       11.99   \n",
              "30      162037                      iPhone                 1      700.00   \n",
              "31      162037    Lightning Charging Cable                 1       14.95   \n",
              "...        ...                         ...               ...         ...   \n",
              "20285   278706        USB-C Charging Cable                 1       11.95   \n",
              "20289   278710        USB-C Charging Cable                 1       11.95   \n",
              "20290   278710            27in FHD Monitor                 1      149.99   \n",
              "20298   278718        USB-C Charging Cable                 1       11.95   \n",
              "20299   278718  Bose SoundSport Headphones                 1       99.99   \n",
              "\n",
              "           Order Date                      Purchase Address  Month      CA  \\\n",
              "0      03/28/19 20:59       942 Church St, Austin, TX 73301      3  700.00   \n",
              "1      03/28/19 20:59       942 Church St, Austin, TX 73301      3   14.95   \n",
              "2      03/28/19 20:59       942 Church St, Austin, TX 73301      3   23.98   \n",
              "30     03/23/19 02:11     277 Elm St, Los Angeles, CA 90001      3  700.00   \n",
              "31     03/23/19 02:11     277 Elm St, Los Angeles, CA 90001      3   14.95   \n",
              "...               ...                                   ...    ...     ...   \n",
              "20285  10/07/19 18:18  942 11th St, San Francisco, CA 94016     10   11.95   \n",
              "20289  10/13/19 19:05   183 5th St, San Francisco, CA 94016     10   11.95   \n",
              "20290  10/13/19 19:05   183 5th St, San Francisco, CA 94016     10  149.99   \n",
              "20298  10/13/19 12:45     479 Lincoln St, Atlanta, GA 30301     10   11.95   \n",
              "20299  10/13/19 12:45     479 Lincoln St, Atlanta, GA 30301     10   99.99   \n",
              "\n",
              "                ville  hour                                           grouped  \n",
              "0              Austin    20  iPhone,Lightning Charging Cable,Wired Headphones  \n",
              "1              Austin    20  iPhone,Lightning Charging Cable,Wired Headphones  \n",
              "2              Austin    20  iPhone,Lightning Charging Cable,Wired Headphones  \n",
              "30        Los Angeles     2                   iPhone,Lightning Charging Cable  \n",
              "31        Los Angeles     2                   iPhone,Lightning Charging Cable  \n",
              "...               ...   ...                                               ...  \n",
              "20285   San Francisco    18                 Google Phone,USB-C Charging Cable  \n",
              "20289   San Francisco    19             USB-C Charging Cable,27in FHD Monitor  \n",
              "20290   San Francisco    19             USB-C Charging Cable,27in FHD Monitor  \n",
              "20298         Atlanta    12   USB-C Charging Cable,Bose SoundSport Headphones  \n",
              "20299         Atlanta    12   USB-C Charging Cable,Bose SoundSport Headphones  \n",
              "\n",
              "[14649 rows x 11 columns]"
            ],
            "text/html": [
              "\n",
              "  <div id=\"df-30ba45af-a106-4c18-8736-0eb7be4078c4\">\n",
              "    <div class=\"colab-df-container\">\n",
              "      <div>\n",
              "<style scoped>\n",
              "    .dataframe tbody tr th:only-of-type {\n",
              "        vertical-align: middle;\n",
              "    }\n",
              "\n",
              "    .dataframe tbody tr th {\n",
              "        vertical-align: top;\n",
              "    }\n",
              "\n",
              "    .dataframe thead th {\n",
              "        text-align: right;\n",
              "    }\n",
              "</style>\n",
              "<table border=\"1\" class=\"dataframe\">\n",
              "  <thead>\n",
              "    <tr style=\"text-align: right;\">\n",
              "      <th></th>\n",
              "      <th>Order ID</th>\n",
              "      <th>Product</th>\n",
              "      <th>Quantity Ordered</th>\n",
              "      <th>Price Each</th>\n",
              "      <th>Order Date</th>\n",
              "      <th>Purchase Address</th>\n",
              "      <th>Month</th>\n",
              "      <th>CA</th>\n",
              "      <th>ville</th>\n",
              "      <th>hour</th>\n",
              "      <th>grouped</th>\n",
              "    </tr>\n",
              "  </thead>\n",
              "  <tbody>\n",
              "    <tr>\n",
              "      <th>0</th>\n",
              "      <td>162009</td>\n",
              "      <td>iPhone</td>\n",
              "      <td>1</td>\n",
              "      <td>700.00</td>\n",
              "      <td>03/28/19 20:59</td>\n",
              "      <td>942 Church St, Austin, TX 73301</td>\n",
              "      <td>3</td>\n",
              "      <td>700.00</td>\n",
              "      <td>Austin</td>\n",
              "      <td>20</td>\n",
              "      <td>iPhone,Lightning Charging Cable,Wired Headphones</td>\n",
              "    </tr>\n",
              "    <tr>\n",
              "      <th>1</th>\n",
              "      <td>162009</td>\n",
              "      <td>Lightning Charging Cable</td>\n",
              "      <td>1</td>\n",
              "      <td>14.95</td>\n",
              "      <td>03/28/19 20:59</td>\n",
              "      <td>942 Church St, Austin, TX 73301</td>\n",
              "      <td>3</td>\n",
              "      <td>14.95</td>\n",
              "      <td>Austin</td>\n",
              "      <td>20</td>\n",
              "      <td>iPhone,Lightning Charging Cable,Wired Headphones</td>\n",
              "    </tr>\n",
              "    <tr>\n",
              "      <th>2</th>\n",
              "      <td>162009</td>\n",
              "      <td>Wired Headphones</td>\n",
              "      <td>2</td>\n",
              "      <td>11.99</td>\n",
              "      <td>03/28/19 20:59</td>\n",
              "      <td>942 Church St, Austin, TX 73301</td>\n",
              "      <td>3</td>\n",
              "      <td>23.98</td>\n",
              "      <td>Austin</td>\n",
              "      <td>20</td>\n",
              "      <td>iPhone,Lightning Charging Cable,Wired Headphones</td>\n",
              "    </tr>\n",
              "    <tr>\n",
              "      <th>30</th>\n",
              "      <td>162037</td>\n",
              "      <td>iPhone</td>\n",
              "      <td>1</td>\n",
              "      <td>700.00</td>\n",
              "      <td>03/23/19 02:11</td>\n",
              "      <td>277 Elm St, Los Angeles, CA 90001</td>\n",
              "      <td>3</td>\n",
              "      <td>700.00</td>\n",
              "      <td>Los Angeles</td>\n",
              "      <td>2</td>\n",
              "      <td>iPhone,Lightning Charging Cable</td>\n",
              "    </tr>\n",
              "    <tr>\n",
              "      <th>31</th>\n",
              "      <td>162037</td>\n",
              "      <td>Lightning Charging Cable</td>\n",
              "      <td>1</td>\n",
              "      <td>14.95</td>\n",
              "      <td>03/23/19 02:11</td>\n",
              "      <td>277 Elm St, Los Angeles, CA 90001</td>\n",
              "      <td>3</td>\n",
              "      <td>14.95</td>\n",
              "      <td>Los Angeles</td>\n",
              "      <td>2</td>\n",
              "      <td>iPhone,Lightning Charging Cable</td>\n",
              "    </tr>\n",
              "    <tr>\n",
              "      <th>...</th>\n",
              "      <td>...</td>\n",
              "      <td>...</td>\n",
              "      <td>...</td>\n",
              "      <td>...</td>\n",
              "      <td>...</td>\n",
              "      <td>...</td>\n",
              "      <td>...</td>\n",
              "      <td>...</td>\n",
              "      <td>...</td>\n",
              "      <td>...</td>\n",
              "      <td>...</td>\n",
              "    </tr>\n",
              "    <tr>\n",
              "      <th>20285</th>\n",
              "      <td>278706</td>\n",
              "      <td>USB-C Charging Cable</td>\n",
              "      <td>1</td>\n",
              "      <td>11.95</td>\n",
              "      <td>10/07/19 18:18</td>\n",
              "      <td>942 11th St, San Francisco, CA 94016</td>\n",
              "      <td>10</td>\n",
              "      <td>11.95</td>\n",
              "      <td>San Francisco</td>\n",
              "      <td>18</td>\n",
              "      <td>Google Phone,USB-C Charging Cable</td>\n",
              "    </tr>\n",
              "    <tr>\n",
              "      <th>20289</th>\n",
              "      <td>278710</td>\n",
              "      <td>USB-C Charging Cable</td>\n",
              "      <td>1</td>\n",
              "      <td>11.95</td>\n",
              "      <td>10/13/19 19:05</td>\n",
              "      <td>183 5th St, San Francisco, CA 94016</td>\n",
              "      <td>10</td>\n",
              "      <td>11.95</td>\n",
              "      <td>San Francisco</td>\n",
              "      <td>19</td>\n",
              "      <td>USB-C Charging Cable,27in FHD Monitor</td>\n",
              "    </tr>\n",
              "    <tr>\n",
              "      <th>20290</th>\n",
              "      <td>278710</td>\n",
              "      <td>27in FHD Monitor</td>\n",
              "      <td>1</td>\n",
              "      <td>149.99</td>\n",
              "      <td>10/13/19 19:05</td>\n",
              "      <td>183 5th St, San Francisco, CA 94016</td>\n",
              "      <td>10</td>\n",
              "      <td>149.99</td>\n",
              "      <td>San Francisco</td>\n",
              "      <td>19</td>\n",
              "      <td>USB-C Charging Cable,27in FHD Monitor</td>\n",
              "    </tr>\n",
              "    <tr>\n",
              "      <th>20298</th>\n",
              "      <td>278718</td>\n",
              "      <td>USB-C Charging Cable</td>\n",
              "      <td>1</td>\n",
              "      <td>11.95</td>\n",
              "      <td>10/13/19 12:45</td>\n",
              "      <td>479 Lincoln St, Atlanta, GA 30301</td>\n",
              "      <td>10</td>\n",
              "      <td>11.95</td>\n",
              "      <td>Atlanta</td>\n",
              "      <td>12</td>\n",
              "      <td>USB-C Charging Cable,Bose SoundSport Headphones</td>\n",
              "    </tr>\n",
              "    <tr>\n",
              "      <th>20299</th>\n",
              "      <td>278718</td>\n",
              "      <td>Bose SoundSport Headphones</td>\n",
              "      <td>1</td>\n",
              "      <td>99.99</td>\n",
              "      <td>10/13/19 12:45</td>\n",
              "      <td>479 Lincoln St, Atlanta, GA 30301</td>\n",
              "      <td>10</td>\n",
              "      <td>99.99</td>\n",
              "      <td>Atlanta</td>\n",
              "      <td>12</td>\n",
              "      <td>USB-C Charging Cable,Bose SoundSport Headphones</td>\n",
              "    </tr>\n",
              "  </tbody>\n",
              "</table>\n",
              "<p>14649 rows × 11 columns</p>\n",
              "</div>\n",
              "      <button class=\"colab-df-convert\" onclick=\"convertToInteractive('df-30ba45af-a106-4c18-8736-0eb7be4078c4')\"\n",
              "              title=\"Convert this dataframe to an interactive table.\"\n",
              "              style=\"display:none;\">\n",
              "        \n",
              "  <svg xmlns=\"http://www.w3.org/2000/svg\" height=\"24px\"viewBox=\"0 0 24 24\"\n",
              "       width=\"24px\">\n",
              "    <path d=\"M0 0h24v24H0V0z\" fill=\"none\"/>\n",
              "    <path d=\"M18.56 5.44l.94 2.06.94-2.06 2.06-.94-2.06-.94-.94-2.06-.94 2.06-2.06.94zm-11 1L8.5 8.5l.94-2.06 2.06-.94-2.06-.94L8.5 2.5l-.94 2.06-2.06.94zm10 10l.94 2.06.94-2.06 2.06-.94-2.06-.94-.94-2.06-.94 2.06-2.06.94z\"/><path d=\"M17.41 7.96l-1.37-1.37c-.4-.4-.92-.59-1.43-.59-.52 0-1.04.2-1.43.59L10.3 9.45l-7.72 7.72c-.78.78-.78 2.05 0 2.83L4 21.41c.39.39.9.59 1.41.59.51 0 1.02-.2 1.41-.59l7.78-7.78 2.81-2.81c.8-.78.8-2.07 0-2.86zM5.41 20L4 18.59l7.72-7.72 1.47 1.35L5.41 20z\"/>\n",
              "  </svg>\n",
              "      </button>\n",
              "      \n",
              "  <style>\n",
              "    .colab-df-container {\n",
              "      display:flex;\n",
              "      flex-wrap:wrap;\n",
              "      gap: 12px;\n",
              "    }\n",
              "\n",
              "    .colab-df-convert {\n",
              "      background-color: #E8F0FE;\n",
              "      border: none;\n",
              "      border-radius: 50%;\n",
              "      cursor: pointer;\n",
              "      display: none;\n",
              "      fill: #1967D2;\n",
              "      height: 32px;\n",
              "      padding: 0 0 0 0;\n",
              "      width: 32px;\n",
              "    }\n",
              "\n",
              "    .colab-df-convert:hover {\n",
              "      background-color: #E2EBFA;\n",
              "      box-shadow: 0px 1px 2px rgba(60, 64, 67, 0.3), 0px 1px 3px 1px rgba(60, 64, 67, 0.15);\n",
              "      fill: #174EA6;\n",
              "    }\n",
              "\n",
              "    [theme=dark] .colab-df-convert {\n",
              "      background-color: #3B4455;\n",
              "      fill: #D2E3FC;\n",
              "    }\n",
              "\n",
              "    [theme=dark] .colab-df-convert:hover {\n",
              "      background-color: #434B5C;\n",
              "      box-shadow: 0px 1px 3px 1px rgba(0, 0, 0, 0.15);\n",
              "      filter: drop-shadow(0px 1px 2px rgba(0, 0, 0, 0.3));\n",
              "      fill: #FFFFFF;\n",
              "    }\n",
              "  </style>\n",
              "\n",
              "      <script>\n",
              "        const buttonEl =\n",
              "          document.querySelector('#df-30ba45af-a106-4c18-8736-0eb7be4078c4 button.colab-df-convert');\n",
              "        buttonEl.style.display =\n",
              "          google.colab.kernel.accessAllowed ? 'block' : 'none';\n",
              "\n",
              "        async function convertToInteractive(key) {\n",
              "          const element = document.querySelector('#df-30ba45af-a106-4c18-8736-0eb7be4078c4');\n",
              "          const dataTable =\n",
              "            await google.colab.kernel.invokeFunction('convertToInteractive',\n",
              "                                                     [key], {});\n",
              "          if (!dataTable) return;\n",
              "\n",
              "          const docLinkHtml = 'Like what you see? Visit the ' +\n",
              "            '<a target=\"_blank\" href=https://colab.research.google.com/notebooks/data_table.ipynb>data table notebook</a>'\n",
              "            + ' to learn more about interactive tables.';\n",
              "          element.innerHTML = '';\n",
              "          dataTable['output_type'] = 'display_data';\n",
              "          await google.colab.output.renderOutput(dataTable, element);\n",
              "          const docLink = document.createElement('div');\n",
              "          docLink.innerHTML = docLinkHtml;\n",
              "          element.appendChild(docLink);\n",
              "        }\n",
              "      </script>\n",
              "    </div>\n",
              "  </div>\n",
              "  "
            ]
          },
          "metadata": {},
          "execution_count": 139
        }
      ]
    },
    {
      "cell_type": "markdown",
      "source": [
        "supprimer les elements dumpiquées"
      ],
      "metadata": {
        "id": "U8i6J4efKBN-"
      }
    },
    {
      "cell_type": "code",
      "source": [
        "df2=df.drop_duplicates(subset=['Order ID'])\n",
        "df2"
      ],
      "metadata": {
        "colab": {
          "base_uri": "https://localhost:8080/",
          "height": 658
        },
        "id": "bqLO9TtYJlXN",
        "outputId": "4277a189-8174-4886-db28-eb17bb9b0b39"
      },
      "execution_count": 140,
      "outputs": [
        {
          "output_type": "execute_result",
          "data": {
            "text/plain": [
              "      Order ID                Product  Quantity Ordered  Price Each  \\\n",
              "0       162009                 iPhone                 1      700.00   \n",
              "30      162037                 iPhone                 1      700.00   \n",
              "60      162066  AA Batteries (4-pack)                 1        3.84   \n",
              "66      162071        Vareebadd Phone                 1      400.00   \n",
              "78      162082        Vareebadd Phone                 1      400.00   \n",
              "...        ...                    ...               ...         ...   \n",
              "20229   278653                 iPhone                 1      700.00   \n",
              "20274   278697       Wired Headphones                 1       11.99   \n",
              "20284   278706           Google Phone                 1      600.00   \n",
              "20289   278710   USB-C Charging Cable                 1       11.95   \n",
              "20298   278718   USB-C Charging Cable                 1       11.95   \n",
              "\n",
              "           Order Date                        Purchase Address  Month      CA  \\\n",
              "0      03/28/19 20:59         942 Church St, Austin, TX 73301      3  700.00   \n",
              "30     03/23/19 02:11       277 Elm St, Los Angeles, CA 90001      3  700.00   \n",
              "60     03/13/19 13:57    602 Pine St, New York City, NY 10001      3    3.84   \n",
              "66     03/30/19 20:23       334 Jackson St, Atlanta, GA 30301      3  400.00   \n",
              "78     03/09/19 14:15  401 Wilson St, New York City, NY 10001      3  400.00   \n",
              "...               ...                                     ...    ...     ...   \n",
              "20229  10/31/19 19:46      949 Chestnut St, Atlanta, GA 30301     10  700.00   \n",
              "20274  10/21/19 13:58     621 North St, Los Angeles, CA 90001     10   11.99   \n",
              "20284  10/07/19 18:18    942 11th St, San Francisco, CA 94016     10  600.00   \n",
              "20289  10/13/19 19:05     183 5th St, San Francisco, CA 94016     10   11.95   \n",
              "20298  10/13/19 12:45       479 Lincoln St, Atlanta, GA 30301     10   11.95   \n",
              "\n",
              "                ville  hour                                           grouped  \n",
              "0              Austin    20  iPhone,Lightning Charging Cable,Wired Headphones  \n",
              "30        Los Angeles     2                   iPhone,Lightning Charging Cable  \n",
              "60      New York City    13        AA Batteries (4-pack),USB-C Charging Cable  \n",
              "66            Atlanta    20              Vareebadd Phone,USB-C Charging Cable  \n",
              "78      New York City    14                  Vareebadd Phone,Wired Headphones  \n",
              "...               ...   ...                                               ...  \n",
              "20229         Atlanta    19                   iPhone,Lightning Charging Cable  \n",
              "20274     Los Angeles    13           Wired Headphones,27in 4K Gaming Monitor  \n",
              "20284   San Francisco    18                 Google Phone,USB-C Charging Cable  \n",
              "20289   San Francisco    19             USB-C Charging Cable,27in FHD Monitor  \n",
              "20298         Atlanta    12   USB-C Charging Cable,Bose SoundSport Headphones  \n",
              "\n",
              "[7136 rows x 11 columns]"
            ],
            "text/html": [
              "\n",
              "  <div id=\"df-8812372a-b16a-4edb-be5b-2090ae62b913\">\n",
              "    <div class=\"colab-df-container\">\n",
              "      <div>\n",
              "<style scoped>\n",
              "    .dataframe tbody tr th:only-of-type {\n",
              "        vertical-align: middle;\n",
              "    }\n",
              "\n",
              "    .dataframe tbody tr th {\n",
              "        vertical-align: top;\n",
              "    }\n",
              "\n",
              "    .dataframe thead th {\n",
              "        text-align: right;\n",
              "    }\n",
              "</style>\n",
              "<table border=\"1\" class=\"dataframe\">\n",
              "  <thead>\n",
              "    <tr style=\"text-align: right;\">\n",
              "      <th></th>\n",
              "      <th>Order ID</th>\n",
              "      <th>Product</th>\n",
              "      <th>Quantity Ordered</th>\n",
              "      <th>Price Each</th>\n",
              "      <th>Order Date</th>\n",
              "      <th>Purchase Address</th>\n",
              "      <th>Month</th>\n",
              "      <th>CA</th>\n",
              "      <th>ville</th>\n",
              "      <th>hour</th>\n",
              "      <th>grouped</th>\n",
              "    </tr>\n",
              "  </thead>\n",
              "  <tbody>\n",
              "    <tr>\n",
              "      <th>0</th>\n",
              "      <td>162009</td>\n",
              "      <td>iPhone</td>\n",
              "      <td>1</td>\n",
              "      <td>700.00</td>\n",
              "      <td>03/28/19 20:59</td>\n",
              "      <td>942 Church St, Austin, TX 73301</td>\n",
              "      <td>3</td>\n",
              "      <td>700.00</td>\n",
              "      <td>Austin</td>\n",
              "      <td>20</td>\n",
              "      <td>iPhone,Lightning Charging Cable,Wired Headphones</td>\n",
              "    </tr>\n",
              "    <tr>\n",
              "      <th>30</th>\n",
              "      <td>162037</td>\n",
              "      <td>iPhone</td>\n",
              "      <td>1</td>\n",
              "      <td>700.00</td>\n",
              "      <td>03/23/19 02:11</td>\n",
              "      <td>277 Elm St, Los Angeles, CA 90001</td>\n",
              "      <td>3</td>\n",
              "      <td>700.00</td>\n",
              "      <td>Los Angeles</td>\n",
              "      <td>2</td>\n",
              "      <td>iPhone,Lightning Charging Cable</td>\n",
              "    </tr>\n",
              "    <tr>\n",
              "      <th>60</th>\n",
              "      <td>162066</td>\n",
              "      <td>AA Batteries (4-pack)</td>\n",
              "      <td>1</td>\n",
              "      <td>3.84</td>\n",
              "      <td>03/13/19 13:57</td>\n",
              "      <td>602 Pine St, New York City, NY 10001</td>\n",
              "      <td>3</td>\n",
              "      <td>3.84</td>\n",
              "      <td>New York City</td>\n",
              "      <td>13</td>\n",
              "      <td>AA Batteries (4-pack),USB-C Charging Cable</td>\n",
              "    </tr>\n",
              "    <tr>\n",
              "      <th>66</th>\n",
              "      <td>162071</td>\n",
              "      <td>Vareebadd Phone</td>\n",
              "      <td>1</td>\n",
              "      <td>400.00</td>\n",
              "      <td>03/30/19 20:23</td>\n",
              "      <td>334 Jackson St, Atlanta, GA 30301</td>\n",
              "      <td>3</td>\n",
              "      <td>400.00</td>\n",
              "      <td>Atlanta</td>\n",
              "      <td>20</td>\n",
              "      <td>Vareebadd Phone,USB-C Charging Cable</td>\n",
              "    </tr>\n",
              "    <tr>\n",
              "      <th>78</th>\n",
              "      <td>162082</td>\n",
              "      <td>Vareebadd Phone</td>\n",
              "      <td>1</td>\n",
              "      <td>400.00</td>\n",
              "      <td>03/09/19 14:15</td>\n",
              "      <td>401 Wilson St, New York City, NY 10001</td>\n",
              "      <td>3</td>\n",
              "      <td>400.00</td>\n",
              "      <td>New York City</td>\n",
              "      <td>14</td>\n",
              "      <td>Vareebadd Phone,Wired Headphones</td>\n",
              "    </tr>\n",
              "    <tr>\n",
              "      <th>...</th>\n",
              "      <td>...</td>\n",
              "      <td>...</td>\n",
              "      <td>...</td>\n",
              "      <td>...</td>\n",
              "      <td>...</td>\n",
              "      <td>...</td>\n",
              "      <td>...</td>\n",
              "      <td>...</td>\n",
              "      <td>...</td>\n",
              "      <td>...</td>\n",
              "      <td>...</td>\n",
              "    </tr>\n",
              "    <tr>\n",
              "      <th>20229</th>\n",
              "      <td>278653</td>\n",
              "      <td>iPhone</td>\n",
              "      <td>1</td>\n",
              "      <td>700.00</td>\n",
              "      <td>10/31/19 19:46</td>\n",
              "      <td>949 Chestnut St, Atlanta, GA 30301</td>\n",
              "      <td>10</td>\n",
              "      <td>700.00</td>\n",
              "      <td>Atlanta</td>\n",
              "      <td>19</td>\n",
              "      <td>iPhone,Lightning Charging Cable</td>\n",
              "    </tr>\n",
              "    <tr>\n",
              "      <th>20274</th>\n",
              "      <td>278697</td>\n",
              "      <td>Wired Headphones</td>\n",
              "      <td>1</td>\n",
              "      <td>11.99</td>\n",
              "      <td>10/21/19 13:58</td>\n",
              "      <td>621 North St, Los Angeles, CA 90001</td>\n",
              "      <td>10</td>\n",
              "      <td>11.99</td>\n",
              "      <td>Los Angeles</td>\n",
              "      <td>13</td>\n",
              "      <td>Wired Headphones,27in 4K Gaming Monitor</td>\n",
              "    </tr>\n",
              "    <tr>\n",
              "      <th>20284</th>\n",
              "      <td>278706</td>\n",
              "      <td>Google Phone</td>\n",
              "      <td>1</td>\n",
              "      <td>600.00</td>\n",
              "      <td>10/07/19 18:18</td>\n",
              "      <td>942 11th St, San Francisco, CA 94016</td>\n",
              "      <td>10</td>\n",
              "      <td>600.00</td>\n",
              "      <td>San Francisco</td>\n",
              "      <td>18</td>\n",
              "      <td>Google Phone,USB-C Charging Cable</td>\n",
              "    </tr>\n",
              "    <tr>\n",
              "      <th>20289</th>\n",
              "      <td>278710</td>\n",
              "      <td>USB-C Charging Cable</td>\n",
              "      <td>1</td>\n",
              "      <td>11.95</td>\n",
              "      <td>10/13/19 19:05</td>\n",
              "      <td>183 5th St, San Francisco, CA 94016</td>\n",
              "      <td>10</td>\n",
              "      <td>11.95</td>\n",
              "      <td>San Francisco</td>\n",
              "      <td>19</td>\n",
              "      <td>USB-C Charging Cable,27in FHD Monitor</td>\n",
              "    </tr>\n",
              "    <tr>\n",
              "      <th>20298</th>\n",
              "      <td>278718</td>\n",
              "      <td>USB-C Charging Cable</td>\n",
              "      <td>1</td>\n",
              "      <td>11.95</td>\n",
              "      <td>10/13/19 12:45</td>\n",
              "      <td>479 Lincoln St, Atlanta, GA 30301</td>\n",
              "      <td>10</td>\n",
              "      <td>11.95</td>\n",
              "      <td>Atlanta</td>\n",
              "      <td>12</td>\n",
              "      <td>USB-C Charging Cable,Bose SoundSport Headphones</td>\n",
              "    </tr>\n",
              "  </tbody>\n",
              "</table>\n",
              "<p>7136 rows × 11 columns</p>\n",
              "</div>\n",
              "      <button class=\"colab-df-convert\" onclick=\"convertToInteractive('df-8812372a-b16a-4edb-be5b-2090ae62b913')\"\n",
              "              title=\"Convert this dataframe to an interactive table.\"\n",
              "              style=\"display:none;\">\n",
              "        \n",
              "  <svg xmlns=\"http://www.w3.org/2000/svg\" height=\"24px\"viewBox=\"0 0 24 24\"\n",
              "       width=\"24px\">\n",
              "    <path d=\"M0 0h24v24H0V0z\" fill=\"none\"/>\n",
              "    <path d=\"M18.56 5.44l.94 2.06.94-2.06 2.06-.94-2.06-.94-.94-2.06-.94 2.06-2.06.94zm-11 1L8.5 8.5l.94-2.06 2.06-.94-2.06-.94L8.5 2.5l-.94 2.06-2.06.94zm10 10l.94 2.06.94-2.06 2.06-.94-2.06-.94-.94-2.06-.94 2.06-2.06.94z\"/><path d=\"M17.41 7.96l-1.37-1.37c-.4-.4-.92-.59-1.43-.59-.52 0-1.04.2-1.43.59L10.3 9.45l-7.72 7.72c-.78.78-.78 2.05 0 2.83L4 21.41c.39.39.9.59 1.41.59.51 0 1.02-.2 1.41-.59l7.78-7.78 2.81-2.81c.8-.78.8-2.07 0-2.86zM5.41 20L4 18.59l7.72-7.72 1.47 1.35L5.41 20z\"/>\n",
              "  </svg>\n",
              "      </button>\n",
              "      \n",
              "  <style>\n",
              "    .colab-df-container {\n",
              "      display:flex;\n",
              "      flex-wrap:wrap;\n",
              "      gap: 12px;\n",
              "    }\n",
              "\n",
              "    .colab-df-convert {\n",
              "      background-color: #E8F0FE;\n",
              "      border: none;\n",
              "      border-radius: 50%;\n",
              "      cursor: pointer;\n",
              "      display: none;\n",
              "      fill: #1967D2;\n",
              "      height: 32px;\n",
              "      padding: 0 0 0 0;\n",
              "      width: 32px;\n",
              "    }\n",
              "\n",
              "    .colab-df-convert:hover {\n",
              "      background-color: #E2EBFA;\n",
              "      box-shadow: 0px 1px 2px rgba(60, 64, 67, 0.3), 0px 1px 3px 1px rgba(60, 64, 67, 0.15);\n",
              "      fill: #174EA6;\n",
              "    }\n",
              "\n",
              "    [theme=dark] .colab-df-convert {\n",
              "      background-color: #3B4455;\n",
              "      fill: #D2E3FC;\n",
              "    }\n",
              "\n",
              "    [theme=dark] .colab-df-convert:hover {\n",
              "      background-color: #434B5C;\n",
              "      box-shadow: 0px 1px 3px 1px rgba(0, 0, 0, 0.15);\n",
              "      filter: drop-shadow(0px 1px 2px rgba(0, 0, 0, 0.3));\n",
              "      fill: #FFFFFF;\n",
              "    }\n",
              "  </style>\n",
              "\n",
              "      <script>\n",
              "        const buttonEl =\n",
              "          document.querySelector('#df-8812372a-b16a-4edb-be5b-2090ae62b913 button.colab-df-convert');\n",
              "        buttonEl.style.display =\n",
              "          google.colab.kernel.accessAllowed ? 'block' : 'none';\n",
              "\n",
              "        async function convertToInteractive(key) {\n",
              "          const element = document.querySelector('#df-8812372a-b16a-4edb-be5b-2090ae62b913');\n",
              "          const dataTable =\n",
              "            await google.colab.kernel.invokeFunction('convertToInteractive',\n",
              "                                                     [key], {});\n",
              "          if (!dataTable) return;\n",
              "\n",
              "          const docLinkHtml = 'Like what you see? Visit the ' +\n",
              "            '<a target=\"_blank\" href=https://colab.research.google.com/notebooks/data_table.ipynb>data table notebook</a>'\n",
              "            + ' to learn more about interactive tables.';\n",
              "          element.innerHTML = '';\n",
              "          dataTable['output_type'] = 'display_data';\n",
              "          await google.colab.output.renderOutput(dataTable, element);\n",
              "          const docLink = document.createElement('div');\n",
              "          docLink.innerHTML = docLinkHtml;\n",
              "          element.appendChild(docLink);\n",
              "        }\n",
              "      </script>\n",
              "    </div>\n",
              "  </div>\n",
              "  "
            ]
          },
          "metadata": {},
          "execution_count": 140
        }
      ]
    },
    {
      "cell_type": "code",
      "source": [
        "df2['grouped'].value_counts()[0:5].plot.pie() #les 5 premiéres"
      ],
      "metadata": {
        "colab": {
          "base_uri": "https://localhost:8080/",
          "height": 266
        },
        "id": "odBDlmfEJua6",
        "outputId": "d8024f43-6e33-4cb9-c344-1ec5e024cf9c"
      },
      "execution_count": 142,
      "outputs": [
        {
          "output_type": "execute_result",
          "data": {
            "text/plain": [
              "<matplotlib.axes._subplots.AxesSubplot at 0x7f0707287a50>"
            ]
          },
          "metadata": {},
          "execution_count": 142
        },
        {
          "output_type": "display_data",
          "data": {
            "text/plain": [
              "<Figure size 432x288 with 1 Axes>"
            ],
            "image/png": "[encoded data removed]"
          },
          "metadata": {}
        }
      ]
    },
    {
      "cell_type": "code",
      "source": [
        ""
      ],
      "metadata": {
        "id": "5oT3EdZiKxuh"
      },
      "execution_count": null,
      "outputs": []
    }
  ]
}